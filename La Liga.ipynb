{
 "cells": [
  {
   "cell_type": "code",
   "execution_count": 5,
   "metadata": {},
   "outputs": [],
   "source": [
    "import numpy as np # linear algebra\n",
    "import pandas as pd # data processing, CSV file I/O (e.g. pd.read_csv)\n",
    "import matplotlib.pyplot as plt\n",
    "import seaborn as sns\n",
    "sns.set_style('whitegrid')\n",
    "from subprocess import check_output"
   ]
  },
  {
   "cell_type": "code",
   "execution_count": 7,
   "metadata": {},
   "outputs": [],
   "source": [
    "laliga=pd.read_csv('FMEL_Dataset.csv')\n",
    "laliga=laliga[laliga.division==1]"
   ]
  },
  {
   "cell_type": "code",
   "execution_count": 8,
   "metadata": {},
   "outputs": [
    {
     "data": {
      "text/html": [
       "<div>\n",
       "<style scoped>\n",
       "    .dataframe tbody tr th:only-of-type {\n",
       "        vertical-align: middle;\n",
       "    }\n",
       "\n",
       "    .dataframe tbody tr th {\n",
       "        vertical-align: top;\n",
       "    }\n",
       "\n",
       "    .dataframe thead th {\n",
       "        text-align: right;\n",
       "    }\n",
       "</style>\n",
       "<table border=\"1\" class=\"dataframe\">\n",
       "  <thead>\n",
       "    <tr style=\"text-align: right;\">\n",
       "      <th></th>\n",
       "      <th>id</th>\n",
       "      <th>season</th>\n",
       "      <th>division</th>\n",
       "      <th>round</th>\n",
       "      <th>localTeam</th>\n",
       "      <th>visitorTeam</th>\n",
       "      <th>localGoals</th>\n",
       "      <th>visitorGoals</th>\n",
       "      <th>date</th>\n",
       "      <th>timestamp</th>\n",
       "    </tr>\n",
       "  </thead>\n",
       "  <tbody>\n",
       "    <tr>\n",
       "      <th>0</th>\n",
       "      <td>1</td>\n",
       "      <td>1970-71</td>\n",
       "      <td>1</td>\n",
       "      <td>1</td>\n",
       "      <td>Atletico de Bilbao</td>\n",
       "      <td>Barcelona</td>\n",
       "      <td>1</td>\n",
       "      <td>1</td>\n",
       "      <td>12/09/1970</td>\n",
       "      <td>21938400</td>\n",
       "    </tr>\n",
       "    <tr>\n",
       "      <th>1</th>\n",
       "      <td>2</td>\n",
       "      <td>1970-71</td>\n",
       "      <td>1</td>\n",
       "      <td>1</td>\n",
       "      <td>Las Palmas</td>\n",
       "      <td>Atletico de Madrid</td>\n",
       "      <td>1</td>\n",
       "      <td>1</td>\n",
       "      <td>12/09/1970</td>\n",
       "      <td>21938400</td>\n",
       "    </tr>\n",
       "    <tr>\n",
       "      <th>2</th>\n",
       "      <td>3</td>\n",
       "      <td>1970-71</td>\n",
       "      <td>1</td>\n",
       "      <td>1</td>\n",
       "      <td>Real Madrid</td>\n",
       "      <td>Valencia</td>\n",
       "      <td>2</td>\n",
       "      <td>0</td>\n",
       "      <td>12/09/1970</td>\n",
       "      <td>21938400</td>\n",
       "    </tr>\n",
       "    <tr>\n",
       "      <th>3</th>\n",
       "      <td>4</td>\n",
       "      <td>1970-71</td>\n",
       "      <td>1</td>\n",
       "      <td>1</td>\n",
       "      <td>Celta de Vigo</td>\n",
       "      <td>Sporting de Gijon</td>\n",
       "      <td>2</td>\n",
       "      <td>0</td>\n",
       "      <td>13/09/1970</td>\n",
       "      <td>22024800</td>\n",
       "    </tr>\n",
       "    <tr>\n",
       "      <th>4</th>\n",
       "      <td>5</td>\n",
       "      <td>1970-71</td>\n",
       "      <td>1</td>\n",
       "      <td>1</td>\n",
       "      <td>Elche</td>\n",
       "      <td>Granada</td>\n",
       "      <td>1</td>\n",
       "      <td>1</td>\n",
       "      <td>13/09/1970</td>\n",
       "      <td>22024800</td>\n",
       "    </tr>\n",
       "  </tbody>\n",
       "</table>\n",
       "</div>"
      ],
      "text/plain": [
       "   id   season  division  round           localTeam         visitorTeam  \\\n",
       "0   1  1970-71         1      1  Atletico de Bilbao           Barcelona   \n",
       "1   2  1970-71         1      1          Las Palmas  Atletico de Madrid   \n",
       "2   3  1970-71         1      1         Real Madrid            Valencia   \n",
       "3   4  1970-71         1      1       Celta de Vigo   Sporting de Gijon   \n",
       "4   5  1970-71         1      1               Elche             Granada   \n",
       "\n",
       "   localGoals  visitorGoals        date  timestamp  \n",
       "0           1             1  12/09/1970   21938400  \n",
       "1           1             1  12/09/1970   21938400  \n",
       "2           2             0  12/09/1970   21938400  \n",
       "3           2             0  13/09/1970   22024800  \n",
       "4           1             1  13/09/1970   22024800  "
      ]
     },
     "execution_count": 8,
     "metadata": {},
     "output_type": "execute_result"
    }
   ],
   "source": [
    "laliga.head()"
   ]
  },
  {
   "cell_type": "code",
   "execution_count": 9,
   "metadata": {},
   "outputs": [
    {
     "name": "stdout",
     "output_type": "stream",
     "text": [
      "<class 'pandas.core.frame.DataFrame'>\n",
      "Int64Index: 17169 entries, 0 to 36684\n",
      "Data columns (total 10 columns):\n",
      "id              17169 non-null int64\n",
      "season          17169 non-null object\n",
      "division        17169 non-null int64\n",
      "round           17169 non-null int64\n",
      "localTeam       17169 non-null object\n",
      "visitorTeam     17169 non-null object\n",
      "localGoals      17169 non-null int64\n",
      "visitorGoals    17169 non-null int64\n",
      "date            17169 non-null object\n",
      "timestamp       17169 non-null int64\n",
      "dtypes: int64(6), object(4)\n",
      "memory usage: 1.4+ MB\n"
     ]
    }
   ],
   "source": [
    "laliga.info()"
   ]
  },
  {
   "cell_type": "code",
   "execution_count": 10,
   "metadata": {},
   "outputs": [],
   "source": [
    "laliga['local_team_won']=laliga.apply(lambda row: 1 if row['localGoals']>row['visitorGoals'] else 0,axis=1)\n",
    "laliga['visitor_team_won']=laliga.apply(lambda row: 1 if row['localGoals']<row['visitorGoals'] else 0,axis=1)\n",
    "laliga['draw']=laliga.apply(lambda row: 1 if row['localGoals']==row['visitorGoals'] else 0,axis=1)"
   ]
  },
  {
   "cell_type": "code",
   "execution_count": null,
   "metadata": {},
   "outputs": [],
   "source": []
  }
 ],
 "metadata": {
  "kernelspec": {
   "display_name": "Python 3",
   "language": "python",
   "name": "python3"
  },
  "language_info": {
   "codemirror_mode": {
    "name": "ipython",
    "version": 3
   },
   "file_extension": ".py",
   "mimetype": "text/x-python",
   "name": "python",
   "nbconvert_exporter": "python",
   "pygments_lexer": "ipython3",
   "version": "3.6.5"
  }
 },
 "nbformat": 4,
 "nbformat_minor": 2
}
